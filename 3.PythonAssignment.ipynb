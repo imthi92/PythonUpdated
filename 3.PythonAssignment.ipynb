{
 "cells": [
  {
   "cell_type": "code",
   "execution_count": 2,
   "metadata": {},
   "outputs": [
    {
     "name": "stdout",
     "output_type": "stream",
     "text": [
      "Enter vale for i:10\n",
      "CORRECT\n"
     ]
    }
   ],
   "source": [
    "i=int(input(\"Enter vale for i:\"))\n",
    "if(i==10):\n",
    "        print(\"CORRECT\")"
   ]
  },
  {
   "cell_type": "code",
   "execution_count": null,
   "metadata": {},
   "outputs": [],
   "source": [
    "# Check the password, using if and else. Enter the password: HOPE@123 Your password is correct"
   ]
  },
  {
   "cell_type": "code",
   "execution_count": 6,
   "metadata": {},
   "outputs": [
    {
     "name": "stdout",
     "output_type": "stream",
     "text": [
      "Enter the password:HOPE@123\n",
      "Your password is correct\n"
     ]
    }
   ],
   "source": [
    "password=input(\"Enter the password:\")\n",
    "if(password==\"HOPE@123\"):\n",
    "    print(\"Your password is correct\")\n",
    "else:\n",
    "    print(\"Your password is incorrect\")\n",
    "    "
   ]
  },
  {
   "cell_type": "code",
   "execution_count": null,
   "metadata": {},
   "outputs": [],
   "source": [
    "# Find whether given number is positive or negative. Enter any number:1 No is positive"
   ]
  },
  {
   "cell_type": "code",
   "execution_count": 9,
   "metadata": {},
   "outputs": [
    {
     "name": "stdout",
     "output_type": "stream",
     "text": [
      "Enter any number:-5\n",
      "THE GIVEN NUMBER IS NEGATIVE -5\n"
     ]
    }
   ],
   "source": [
    "value=int(input(\"Enter any number:\"))\n",
    "if(value<0):\n",
    "    print(\"THE GIVEN NUMBER IS NEGATIVE\",value)\n",
    "else:\n",
    "        print(\"THE GIVEN NUMBER IS POSITIVE\",value)"
   ]
  },
  {
   "cell_type": "code",
   "execution_count": 13,
   "metadata": {},
   "outputs": [
    {
     "name": "stdout",
     "output_type": "stream",
     "text": [
      "Enter the value to check whether divisible by 5 or not7\n",
      "No,not divisible by 5\n"
     ]
    }
   ],
   "source": [
    "# Check whether the given number is divisible by 5. Enter a number to check:22. No is not divisible by 5\n",
    "value=int(input(\"Enter the value to check whether divisible by 5 or not\"))\n",
    "if(value%5==0):\n",
    "    print(\"Yes,Divisible by 5\")\n",
    "else:\n",
    "    print(\"No,not divisible by 5\")\n"
   ]
  },
  {
   "cell_type": "code",
   "execution_count": null,
   "metadata": {},
   "outputs": [],
   "source": []
  }
 ],
 "metadata": {
  "kernelspec": {
   "display_name": "Python 3",
   "language": "python",
   "name": "python3"
  },
  "language_info": {
   "codemirror_mode": {
    "name": "ipython",
    "version": 3
   },
   "file_extension": ".py",
   "mimetype": "text/x-python",
   "name": "python",
   "nbconvert_exporter": "python",
   "pygments_lexer": "ipython3",
   "version": "3.7.4"
  }
 },
 "nbformat": 4,
 "nbformat_minor": 2
}
