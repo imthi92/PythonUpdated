{
 "cells": [
  {
   "cell_type": "code",
   "execution_count": 8,
   "metadata": {},
   "outputs": [
    {
     "name": "stdout",
     "output_type": "stream",
     "text": [
      "Age range is 10 above\n",
      "Age range is 20 above\n",
      "Age range is 30 above\n",
      "Age range is 30 above\n",
      "age is out of given range\n",
      "age is out of given range\n",
      "age is out of given range\n",
      "age is out of given range\n",
      "age is out of given range\n",
      "age is out of given range\n",
      "age is out of given range\n",
      "Age range is 10 above\n",
      "age is out of given range\n",
      "age is out of given range\n",
      "Age range is 30 above\n",
      "age is out of given range\n",
      "Age range is 30 above\n",
      "Age range is 20 above\n",
      "Age range is 20 above\n",
      "Age range is 30 above\n"
     ]
    }
   ],
   "source": [
    "# for temp in mainvariable:\n",
    "# print()\n",
    "\n",
    "lists = [1,12,23,24,45,54,51,62,70,90,99,1,54,73,28,69,24,17,16,28]\n",
    "\n",
    "for age in lists:\n",
    "    if(age<10):\n",
    "        print(\"Age range is 10 above\")\n",
    "    elif(age<20):\n",
    "        print(\"Age range is 20 above\")\n",
    "    elif(age<30):\n",
    "        print(\"Age range is 30 above\")\n",
    "    else:\n",
    "        print(\"age is out of given range\")\n",
    "        "
   ]
  },
  {
   "cell_type": "code",
   "execution_count": null,
   "metadata": {},
   "outputs": [],
   "source": []
  },
  {
   "cell_type": "code",
   "execution_count": null,
   "metadata": {},
   "outputs": [],
   "source": []
  }
 ],
 "metadata": {
  "kernelspec": {
   "display_name": "Python 3",
   "language": "python",
   "name": "python3"
  },
  "language_info": {
   "codemirror_mode": {
    "name": "ipython",
    "version": 3
   },
   "file_extension": ".py",
   "mimetype": "text/x-python",
   "name": "python",
   "nbconvert_exporter": "python",
   "pygments_lexer": "ipython3",
   "version": "3.7.4"
  }
 },
 "nbformat": 4,
 "nbformat_minor": 2
}
