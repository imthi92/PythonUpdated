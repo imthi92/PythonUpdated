{
 "cells": [
  {
   "cell_type": "code",
   "execution_count": null,
   "metadata": {},
   "outputs": [],
   "source": [
    "from 4.PythonAssignment import "
   ]
  },
  {
   "cell_type": "code",
   "execution_count": null,
   "metadata": {},
   "outputs": [],
   "source": [
    "# Create a class and function, and list out the items in the list. SubfieldsInAI.Subfields()"
   ]
  },
  {
   "cell_type": "code",
   "execution_count": 13,
   "metadata": {},
   "outputs": [],
   "source": [
    "class SubfieldsInAI():\n",
    "    \n",
    "    def Subfields():\n",
    "   #value=input(\"How may I help you?:\")\n",
    "        menu=\"Sub-fields in AI are:Machine Learning Neural NetworksVision Robotics Speech Processing Natural Language Processing\"\n",
    "        return menu\n",
    "    "
   ]
  },
  {
   "cell_type": "code",
   "execution_count": 14,
   "metadata": {},
   "outputs": [
    {
     "data": {
      "text/plain": [
       "'Sub-fields in AI are:Machine Learning Neural NetworksVision Robotics Speech Processing Natural Language Processing'"
      ]
     },
     "execution_count": 14,
     "metadata": {},
     "output_type": "execute_result"
    }
   ],
   "source": [
    "    SubfieldsInAI.Subfields()\n"
   ]
  },
  {
   "cell_type": "code",
   "execution_count": null,
   "metadata": {},
   "outputs": [],
   "source": []
  },
  {
   "cell_type": "code",
   "execution_count": null,
   "metadata": {},
   "outputs": [],
   "source": [
    "# Create a function that checks whether the given number is Odd or Even. OddEven.OddEven(). Enter a number: 5245252452 is Even number"
   ]
  },
  {
   "cell_type": "code",
   "execution_count": 35,
   "metadata": {},
   "outputs": [],
   "source": [
    "class OddEven():\n",
    "    def OddEven():\n",
    "            value=int(input(\"Enter a number:\"))\n",
    "            if (value%2==0):\n",
    "                print(value,\"is a Even number:\")\n",
    "                variabledeclaration=\"The given number is a Even number\"\n",
    "            else:\n",
    "                print(value,\"is an Odd number\")\n",
    "                variabledeclaration=\"The given number is an Odd number\"\n",
    "            return variabledeclaration\n",
    "    "
   ]
  },
  {
   "cell_type": "code",
   "execution_count": 36,
   "metadata": {},
   "outputs": [
    {
     "name": "stdout",
     "output_type": "stream",
     "text": [
      "Enter a number:5245252452\n",
      "5245252452 is a Even number:\n"
     ]
    },
    {
     "data": {
      "text/plain": [
       "'The given number is a Even number'"
      ]
     },
     "execution_count": 36,
     "metadata": {},
     "output_type": "execute_result"
    }
   ],
   "source": [
    "OddEven.OddEven()"
   ]
  },
  {
   "cell_type": "code",
   "execution_count": null,
   "metadata": {},
   "outputs": [],
   "source": []
  },
  {
   "cell_type": "code",
   "execution_count": null,
   "metadata": {},
   "outputs": [],
   "source": [
    "# Create a function that tells elegibility of marriage for male and female according to their age limit like 21 for male and 18 for female\n",
    "# ElegiblityForMarriage.Elegible(). Your Gender:MaleYour Age:20NOT ELIGIBLE"
   ]
  },
  {
   "cell_type": "code",
   "execution_count": 50,
   "metadata": {},
   "outputs": [],
   "source": [
    "class ElegiblityForMarriage():\n",
    "    def Elegible():\n",
    "        gendervalue=input(\"Your Gender\")\n",
    "        age=int(input(\"Your age\"))\n",
    "        if (gendervalue==\"Male\" and age>21):\n",
    "            print (\"ELIGIBLE\")\n",
    "            variabledeclaration=\"ELIGIBLE FOR MARRIAGE\"\n",
    "        elif(gendervalue==\"Female\" and age>18):\n",
    "            print (\"ELIGIBLE\")\n",
    "            variabledeclaration=\"ELIGIBLE FOR MARRIAGE\"\n",
    "        else:\n",
    "            print (\"NOT ELIGIBLE\")\n",
    "            variabledeclaration=\"NOT ELIGIBLE FOR MARRIAGE\"\n",
    "        return variabledeclaration\n",
    "        \n",
    "        "
   ]
  },
  {
   "cell_type": "code",
   "execution_count": 51,
   "metadata": {},
   "outputs": [
    {
     "name": "stdout",
     "output_type": "stream",
     "text": [
      "Your GenderMale\n",
      "Your age20\n",
      "NOT ELIGIBLE\n"
     ]
    },
    {
     "data": {
      "text/plain": [
       "'NOT ELIGIBLE FOR MARRIAGE'"
      ]
     },
     "execution_count": 51,
     "metadata": {},
     "output_type": "execute_result"
    }
   ],
   "source": [
    "ElegiblityForMarriage.Elegible()"
   ]
  },
  {
   "cell_type": "code",
   "execution_count": null,
   "metadata": {},
   "outputs": [],
   "source": []
  },
  {
   "cell_type": "code",
   "execution_count": null,
   "metadata": {},
   "outputs": [],
   "source": [
    "# calculate the percentage of your 10th mark. FindPercent.percentage(). Subject1= 98Subject2= 87Subject3= 95Subject4= 95Subject5= 93Total :  468Percentage :  93.60000000000001"
   ]
  },
  {
   "cell_type": "code",
   "execution_count": 52,
   "metadata": {},
   "outputs": [],
   "source": [
    "class FindPercent():\n",
    "    def percentage():\n",
    "        sub1=int(input(\"Subject1:\"))\n",
    "        print(\"Subject1:\", sub1)\n",
    "        variable=\"Subject1\"\n",
    "\n",
    "        sub2=int(input(\"Subject2:\"))\n",
    "        print(\"Subject2:\", sub2)\n",
    "        variable=\"Subject2\"          \n",
    "\n",
    "        sub3=int(input(\"Subject3:\"))\n",
    "        print(\"Subject3\", sub3)\n",
    "        variable=\"Subject3\"\n",
    "\n",
    "        sub4=int(input(\"Subject4:\"))\n",
    "        print(\"Subject4\", sub4)\n",
    "        variable=\"Subject4\"           \n",
    "\n",
    "        sub5=int(input(\"Subject5:\"))\n",
    "        print(\"Subject5\", sub5)\n",
    "        variable=\"Subject5\"   \n",
    "        perc=(sub1+sub2+sub3+sub4+sub5)/5\n",
    "        return perc"
   ]
  },
  {
   "cell_type": "code",
   "execution_count": 53,
   "metadata": {},
   "outputs": [
    {
     "name": "stdout",
     "output_type": "stream",
     "text": [
      "Subject1:98\n",
      "Subject1: 98\n",
      "Subject2:87\n",
      "Subject2: 87\n",
      "Subject3:95\n",
      "Subject3 95\n",
      "Subject4:95\n",
      "Subject4 95\n",
      "Subject5:93\n",
      "Subject5 93\n"
     ]
    },
    {
     "data": {
      "text/plain": [
       "93.6"
      ]
     },
     "execution_count": 53,
     "metadata": {},
     "output_type": "execute_result"
    }
   ],
   "source": [
    "FindPercent.percentage()"
   ]
  },
  {
   "cell_type": "code",
   "execution_count": null,
   "metadata": {},
   "outputs": [],
   "source": []
  }
 ],
 "metadata": {
  "kernelspec": {
   "display_name": "Python 3",
   "language": "python",
   "name": "python3"
  },
  "language_info": {
   "codemirror_mode": {
    "name": "ipython",
    "version": 3
   },
   "file_extension": ".py",
   "mimetype": "text/x-python",
   "name": "python",
   "nbconvert_exporter": "python",
   "pygments_lexer": "ipython3",
   "version": "3.7.4"
  }
 },
 "nbformat": 4,
 "nbformat_minor": 2
}
