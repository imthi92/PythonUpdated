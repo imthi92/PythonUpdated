{
 "cells": [
  {
   "cell_type": "code",
   "execution_count": 10,
   "metadata": {},
   "outputs": [],
   "source": [
    "# Create Function. percentage(). Subject1= 23Subject2= 45Subject3= 34Subject4= 23Subject5= 23Total :  148Percentage :  29.599999999999998"
   ]
  },
  {
   "cell_type": "code",
   "execution_count": null,
   "metadata": {},
   "outputs": [],
   "source": []
  },
  {
   "cell_type": "code",
   "execution_count": 15,
   "metadata": {},
   "outputs": [],
   "source": [
    "def percentage():\n",
    "    sub1=int(input(\"Subject1:\"))\n",
    "    print(\"Subject1:\", sub1)\n",
    "    variable=\"Subject1\"\n",
    "\n",
    "    sub2=int(input(\"Subject2:\"))\n",
    "    print(\"Subject2:\", sub2)\n",
    "    variable=\"Subject2\"          \n",
    "                 \n",
    "    sub3=int(input(\"Subject3:\"))\n",
    "    print(\"Subject3\", sub3)\n",
    "    variable=\"Subject3\"\n",
    "                \n",
    "    sub4=int(input(\"Subject4:\"))\n",
    "    print(\"Subject4\", sub4)\n",
    "    variable=\"Subject4\"           \n",
    "    \n",
    "    sub5=int(input(\"Subject5:\"))\n",
    "    print(\"Subject5\", sub5)\n",
    "    variable=\"Subject5\"   \n",
    "    perc=(sub1+sub2+sub3+sub4+sub5)/5\n",
    "    return perc"
   ]
  },
  {
   "cell_type": "code",
   "execution_count": 16,
   "metadata": {},
   "outputs": [
    {
     "name": "stdout",
     "output_type": "stream",
     "text": [
      "Subject1:12\n",
      "Subject1: 12\n",
      "Subject2:23\n",
      "Subject2: 23\n",
      "Subject3:34\n",
      "Subject3 34\n",
      "Subject4:45\n",
      "Subject4 45\n",
      "Subject5:56\n",
      "Subject5 56\n"
     ]
    },
    {
     "data": {
      "text/plain": [
       "34.0"
      ]
     },
     "execution_count": 16,
     "metadata": {},
     "output_type": "execute_result"
    }
   ],
   "source": [
    "percentage()"
   ]
  },
  {
   "cell_type": "code",
   "execution_count": null,
   "metadata": {},
   "outputs": [],
   "source": []
  },
  {
   "cell_type": "code",
   "execution_count": null,
   "metadata": {},
   "outputs": [],
   "source": [
    "# Create Function. Elegible(). Your Gender:MaleYour Age:18NOT ELIGIBLE"
   ]
  },
  {
   "cell_type": "code",
   "execution_count": 13,
   "metadata": {},
   "outputs": [],
   "source": [
    "def Eligible():\n",
    "    gendervalue=input(\"Your Gender\")\n",
    "    age=int(input(\"Your age\"))\n",
    "    if (gendervalue==\"Male\" and age>21):\n",
    "            print (\"ELIGIBLE\")\n",
    "            variabledeclaration=\"ELIGIBLE FOR MARRIAGE\"\n",
    "    elif(gendervalue==Female and age>18):\n",
    "         print (\"ELIGIBLE\")\n",
    "         variabledeclaration=\"ELIGIBLE FOR MARRIAGE\"\n",
    "    else:\n",
    "            print (\"NOT ELIGIBLE\")\n",
    "            variabledeclaration=\"NOT ELIGIBLE FOR MARRIAGE\"\n",
    "            return variabledeclaration"
   ]
  },
  {
   "cell_type": "code",
   "execution_count": 14,
   "metadata": {},
   "outputs": [
    {
     "name": "stdout",
     "output_type": "stream",
     "text": [
      "Your GenderMale\n",
      "Your age45\n",
      "ELIGIBLE\n"
     ]
    }
   ],
   "source": [
    "Eligible()"
   ]
  },
  {
   "cell_type": "code",
   "execution_count": null,
   "metadata": {},
   "outputs": [],
   "source": []
  }
 ],
 "metadata": {
  "kernelspec": {
   "display_name": "Python 3",
   "language": "python",
   "name": "python3"
  },
  "language_info": {
   "codemirror_mode": {
    "name": "ipython",
    "version": 3
   },
   "file_extension": ".py",
   "mimetype": "text/x-python",
   "name": "python",
   "nbconvert_exporter": "python",
   "pygments_lexer": "ipython3",
   "version": "3.7.4"
  }
 },
 "nbformat": 4,
 "nbformat_minor": 2
}
