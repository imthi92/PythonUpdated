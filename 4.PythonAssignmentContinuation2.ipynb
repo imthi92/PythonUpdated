{
 "cells": [
  {
   "cell_type": "code",
   "execution_count": null,
   "metadata": {},
   "outputs": [],
   "source": []
  },
  {
   "cell_type": "code",
   "execution_count": 11,
   "metadata": {},
   "outputs": [],
   "source": [
    "def traingle():\n",
    "    heightvalue=int(input(\"Height:\"))\n",
    "   # print(\"Height\", heightvalue)\n",
    "    var=heightvalue, \"height in cm\"\n",
    "    \n",
    "    breadthvalue=int(input(\"Breadth:\"))\n",
    "    # print(\"breadth\", breadthvalue)\n",
    "    var=breadthvalue, \"breadth in cm\"\n",
    "\n",
    "    Areaformula=(heightvalue*breadthvalue)/2\n",
    "    print(\"Aarea of the triangle is:\", Areaformula)\n",
    "    \n",
    "    height1=int(input(\"Height1:\"))\n",
    "    var=\"height1 in cm\"\n",
    "    \n",
    "    height2=int(input(\"Height2:\"))\n",
    "    var=\"height2 in cm\"\n",
    "    \n",
    "    breadth=int(input(\"breadth:\"))\n",
    "    var=\"breadth in cm\"\n",
    "    \n",
    "    Perimeterformula=height1+height2+breadth\n",
    "    print(\"Perimeter of the triangle is:\", Perimeterformula)\n",
    "    return Perimeterformula\n"
   ]
  },
  {
   "cell_type": "code",
   "execution_count": 12,
   "metadata": {},
   "outputs": [
    {
     "name": "stdout",
     "output_type": "stream",
     "text": [
      "Height:3\n",
      "Breadth:4\n",
      "Aarea of the triangle is: 6.0\n",
      "Height1:3\n",
      "Height2:4\n",
      "breadth:45\n",
      "Perimeter of the triangle is: 52\n"
     ]
    },
    {
     "data": {
      "text/plain": [
       "52"
      ]
     },
     "execution_count": 12,
     "metadata": {},
     "output_type": "execute_result"
    }
   ],
   "source": [
    "traingle()"
   ]
  },
  {
   "cell_type": "code",
   "execution_count": null,
   "metadata": {},
   "outputs": [],
   "source": []
  }
 ],
 "metadata": {
  "kernelspec": {
   "display_name": "Python 3",
   "language": "python",
   "name": "python3"
  },
  "language_info": {
   "codemirror_mode": {
    "name": "ipython",
    "version": 3
   },
   "file_extension": ".py",
   "mimetype": "text/x-python",
   "name": "python",
   "nbconvert_exporter": "python",
   "pygments_lexer": "ipython3",
   "version": "3.7.4"
  }
 },
 "nbformat": 4,
 "nbformat_minor": 2
}
