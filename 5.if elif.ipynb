{
 "cells": [
  {
   "cell_type": "code",
   "execution_count": 8,
   "metadata": {},
   "outputs": [
    {
     "name": "stdout",
     "output_type": "stream",
     "text": [
      "Enter the value of the age range:44\n"
     ]
    }
   ],
   "source": [
    "age=int(input(\"Enter the value of the age range:\"))"
   ]
  },
  {
   "cell_type": "code",
   "execution_count": 9,
   "metadata": {},
   "outputs": [
    {
     "name": "stdout",
     "output_type": "stream",
     "text": [
      "age is out of given range\n"
     ]
    }
   ],
   "source": [
    "if(age<10):\n",
    "    print(\"Age range is between 10 above\")\n",
    "elif(age<20):\n",
    "        print(\"Age range is between 20 above\")\n",
    "elif(age<30):\n",
    "            print(\"Age range is between 30 above\")\n",
    "else:\n",
    "            print(\"age is out of given range\")"
   ]
  },
  {
   "cell_type": "code",
   "execution_count": null,
   "metadata": {},
   "outputs": [],
   "source": []
  }
 ],
 "metadata": {
  "kernelspec": {
   "display_name": "Python 3",
   "language": "python",
   "name": "python3"
  },
  "language_info": {
   "codemirror_mode": {
    "name": "ipython",
    "version": 3
   },
   "file_extension": ".py",
   "mimetype": "text/x-python",
   "name": "python",
   "nbconvert_exporter": "python",
   "pygments_lexer": "ipython3",
   "version": "3.7.4"
  }
 },
 "nbformat": 4,
 "nbformat_minor": 2
}
